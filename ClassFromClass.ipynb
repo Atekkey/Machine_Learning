{
  "nbformat": 4,
  "nbformat_minor": 0,
  "metadata": {
    "colab": {
      "provenance": [],
      "authorship_tag": "ABX9TyOkE5h05a72oU5ISgiMu2Na"
    },
    "kernelspec": {
      "name": "python3",
      "display_name": "Python 3"
    },
    "language_info": {
      "name": "python"
    }
  },
  "cells": [
    {
      "cell_type": "code",
      "execution_count": null,
      "metadata": {
        "id": "j759kCzfcDtw"
      },
      "outputs": [],
      "source": [
        "#pip install ucimlrepo\n",
        "import numpy as np\n",
        "import scipy.stats as st\n",
        "from scipy import stats\n",
        "from sklearn.preprocessing import StandardScaler\n",
        "from sklearn.decomposition import PCA\n",
        "import matplotlib.pyplot as plt\n",
        "import seaborn as sns\n",
        "import pandas as pd\n",
        "import numpy as np\n",
        "%matplotlib inline\n",
        "\n",
        "import torch\n",
        "from torch import nn\n",
        "from torch.utils.data import DataLoader\n",
        "from torchvision import datasets\n",
        "from torchvision.transforms import ToTensor\n"
      ]
    },
    {
      "cell_type": "code",
      "source": [
        "from ucimlrepo import fetch_ucirepo\n",
        "\n",
        "# fetch dataset\n",
        "mushroom = fetch_ucirepo(id=73)\n",
        "\n",
        "# data (as pandas dataframes)\n",
        "X = mushroom.data.features\n",
        "y = mushroom.data.targets"
      ],
      "metadata": {
        "id": "hEbgFOYddbvV"
      },
      "execution_count": null,
      "outputs": []
    },
    {
      "cell_type": "code",
      "source": [
        "## ONE HOT ENCODING 1/2\n",
        "vToC_list = []\n",
        "colDict = {}\n",
        "for colStr in X.columns :\n",
        "   vToC= dict(X[colStr].value_counts())\n",
        "   vToC_list.append(vToC)\n",
        "   colDict[colStr] = vToC\n",
        "print(colDict)"
      ],
      "metadata": {
        "colab": {
          "base_uri": "https://localhost:8080/"
        },
        "id": "eSdTMswRdcVl",
        "outputId": "80ce992f-e34d-4970-f3b4-1153ff1a7207"
      },
      "execution_count": null,
      "outputs": [
        {
          "output_type": "stream",
          "name": "stdout",
          "text": [
            "{'cap-shape': {'x': 3656, 'f': 3152, 'k': 828, 'b': 452, 's': 32, 'c': 4}, 'cap-surface': {'y': 3244, 's': 2556, 'f': 2320, 'g': 4}, 'cap-color': {'n': 2284, 'g': 1840, 'e': 1500, 'y': 1072, 'w': 1040, 'b': 168, 'p': 144, 'c': 44, 'u': 16, 'r': 16}, 'bruises': {'f': 4748, 't': 3376}, 'odor': {'n': 3528, 'f': 2160, 'y': 576, 's': 576, 'a': 400, 'l': 400, 'p': 256, 'c': 192, 'm': 36}, 'gill-attachment': {'f': 7914, 'a': 210}, 'gill-spacing': {'c': 6812, 'w': 1312}, 'gill-size': {'b': 5612, 'n': 2512}, 'gill-color': {'b': 1728, 'p': 1492, 'w': 1202, 'n': 1048, 'g': 752, 'h': 732, 'u': 492, 'k': 408, 'e': 96, 'y': 86, 'o': 64, 'r': 24}, 'stalk-shape': {'t': 4608, 'e': 3516}, 'stalk-root': {'b': 3776, 'e': 1120, 'c': 556, 'r': 192}, 'stalk-surface-above-ring': {'s': 5176, 'k': 2372, 'f': 552, 'y': 24}, 'stalk-surface-below-ring': {'s': 4936, 'k': 2304, 'f': 600, 'y': 284}, 'stalk-color-above-ring': {'w': 4464, 'p': 1872, 'g': 576, 'n': 448, 'b': 432, 'o': 192, 'e': 96, 'c': 36, 'y': 8}, 'stalk-color-below-ring': {'w': 4384, 'p': 1872, 'g': 576, 'n': 512, 'b': 432, 'o': 192, 'e': 96, 'c': 36, 'y': 24}, 'veil-type': {'p': 8124}, 'veil-color': {'w': 7924, 'n': 96, 'o': 96, 'y': 8}, 'ring-number': {'o': 7488, 't': 600, 'n': 36}, 'ring-type': {'p': 3968, 'e': 2776, 'l': 1296, 'f': 48, 'n': 36}, 'spore-print-color': {'w': 2388, 'n': 1968, 'k': 1872, 'h': 1632, 'r': 72, 'u': 48, 'o': 48, 'y': 48, 'b': 48}, 'population': {'v': 4040, 'y': 1712, 's': 1248, 'n': 400, 'a': 384, 'c': 340}, 'habitat': {'d': 3148, 'g': 2148, 'p': 1144, 'l': 832, 'u': 368, 'm': 292, 'w': 192}}\n"
          ]
        }
      ]
    },
    {
      "cell_type": "code",
      "source": [
        "## ONE HOT ENCODING 2/2\n",
        "finalDict = {}\n",
        "for col in colDict:\n",
        "  for value in colDict[col]:\n",
        "    colName = col + \" is \" + value\n",
        "    colData = X[col] == value\n",
        "    finalDict[colName] = colData + 0 # conv to int\n",
        "X1hot = pd.DataFrame(finalDict)\n",
        "print(X1hot.head(1))"
      ],
      "metadata": {
        "colab": {
          "base_uri": "https://localhost:8080/"
        },
        "id": "NKeR1BHFlY_i",
        "outputId": "b733bce8-8793-41ef-efdc-4518a72a28d3"
      },
      "execution_count": null,
      "outputs": [
        {
          "output_type": "stream",
          "name": "stdout",
          "text": [
            "   cap-shape is x  cap-shape is f  cap-shape is k  cap-shape is b  \\\n",
            "0               1               0               0               0   \n",
            "\n",
            "   cap-shape is s  cap-shape is c  cap-surface is y  cap-surface is s  \\\n",
            "0               0               0                 0                 1   \n",
            "\n",
            "   cap-surface is f  cap-surface is g  ...  population is n  population is a  \\\n",
            "0                 0                 0  ...                0                0   \n",
            "\n",
            "   population is c  habitat is d  habitat is g  habitat is p  habitat is l  \\\n",
            "0                0             0             0             0             0   \n",
            "\n",
            "   habitat is u  habitat is m  habitat is w  \n",
            "0             1             0             0  \n",
            "\n",
            "[1 rows x 116 columns]\n"
          ]
        }
      ]
    },
    {
      "cell_type": "code",
      "source": [
        "## DF to tensor for Tensorflow\n",
        "device = torch.device('cpu')\n",
        "tX = torch.from_numpy(X1hot.values).float().to(device)"
      ],
      "metadata": {
        "id": "1pDxJ_b2purC"
      },
      "execution_count": null,
      "outputs": []
    },
    {
      "cell_type": "code",
      "source": [
        "# class NeuralNetwork(nn.Module):\n",
        "#     def __init__(self):\n",
        "#         super().__init__()\n",
        "#         self.flatten = nn.Flatten()\n",
        "#         self.linear_relu_stack = nn.Sequential(\n",
        "#             nn.Linear(28*28, 512),\n",
        "#             nn.ReLU(),\n",
        "#             nn.Linear(512, 512),\n",
        "#             nn.ReLU(),\n",
        "#             nn.Linear(512, 10)\n",
        "#         )\n",
        "\n",
        "#     def forward(self, x):\n",
        "#         x = self.flatten(x)\n",
        "#         logits = self.linear_relu_stack(x)\n",
        "#         return logits\n",
        "\n",
        "# model = NeuralNetwork().to(device)\n",
        "# print(model)\n"
      ],
      "metadata": {
        "id": "Hcd7M4UZuK4L"
      },
      "execution_count": null,
      "outputs": []
    }
  ]
}